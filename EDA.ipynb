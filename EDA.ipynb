{
  "nbformat": 4,
  "nbformat_minor": 0,
  "metadata": {
    "colab": {
      "name": "Kopia notatnika eda.ipynb",
      "provenance": [],
      "collapsed_sections": []
    },
    "kernelspec": {
      "name": "python3",
      "display_name": "Python 3"
    },
    "language_info": {
      "name": "python"
    }
  },
  "cells": [
    {
      "cell_type": "markdown",
      "metadata": {
        "id": "j7qQsqJDMcMB"
      },
      "source": [
        "## Electrodermal activity (EDA/GSR)\n",
        "\n",
        "Materials are based on [Jupyter Notebooks](https://biosignalsplux.com/learn/notebooks.html) by biosignalsplux (see the [LICENSE](https://github.com/biosignalsplux/biosignalsnotebooks/blob/master/LICENSE))."
      ]
    },
    {
      "cell_type": "markdown",
      "metadata": {
        "id": "jXudWZVw0HTb"
      },
      "source": [
        "### Required packages\n",
        "\n",
        "We will use special package created by biosignalsplux - as it is non-standard, we need to install it now:"
      ]
    },
    {
      "cell_type": "code",
      "metadata": {
        "id": "Ma1T6hd7iWjL"
      },
      "source": [
        "# install necessary packages\n",
        "!pip install biosignalsnotebooks\n",
        "\n",
        "# install also system libraries necessary for libmagic\n",
        "!apt-get install libmagic-dev\n",
        "\n",
        "# install biosppy and neurokit2 (will be used at the end of the notebook)\n",
        "!pip install biosppy neurokit2"
      ],
      "execution_count": null,
      "outputs": []
    },
    {
      "cell_type": "code",
      "metadata": {
        "id": "nKqYHudsze6f"
      },
      "source": [
        "# necessary imports\n",
        "import numpy as np\n",
        "import pandas as pd\n",
        "import biosignalsnotebooks as bsnb\n",
        "import bokeh\n",
        "bokeh.io.output_notebook()\n",
        "from scipy import signal\n",
        "\n",
        "# some packages for EDA\n",
        "import pywt\n",
        "import copy\n",
        "import sklearn.mixture\n",
        "import scipy.stats"
      ],
      "execution_count": null,
      "outputs": []
    },
    {
      "cell_type": "markdown",
      "metadata": {
        "id": "rUw4jmwN9W6N"
      },
      "source": [
        "### Let's load some EDA data!\n",
        "\n",
        "The notebook uses the sample EDA signals provided by biosignalsplux. But it may be more interesting to load your own signal recorded during the class!"
      ]
    },
    {
      "cell_type": "code",
      "metadata": {
        "id": "CWwYc--pl1jK"
      },
      "source": [
        "# Download the sample dataset (to Virtual Machine local filesystem)\n",
        "# note the leading !. This is a signal to execute the line as a shell command\n",
        "!wget https://krzysztof.kutt.pl/didactics/psaw/EDA_sample.txt"
      ],
      "execution_count": null,
      "outputs": []
    },
    {
      "cell_type": "code",
      "metadata": {
        "id": "VNgOv48vSjhl"
      },
      "source": [
        "# to load your own data, change the filename accordingly\n",
        "data, header = bsnb.load(\"EDA_sample.txt\", get_header=True)"
      ],
      "execution_count": null,
      "outputs": []
    },
    {
      "cell_type": "code",
      "metadata": {
        "id": "EwraT65QAjVw"
      },
      "source": [
        "# print the data\n",
        "print(f\"Header:\\n{str(header)}\\nData:\\n{str(data)}\")"
      ],
      "execution_count": null,
      "outputs": []
    },
    {
      "cell_type": "markdown",
      "metadata": {
        "id": "x6fe_55ABFjp"
      },
      "source": [
        "There is only one channel (`'CH3'`) and it contains EDA data (`'sensor': ['EDABITREV']`).\n",
        "\n",
        "Now, it's time to plot the data to see how it looks like.  \n",
        "As with the other signals, there is a need to generate time vector (using `header['sampling rate']`)."
      ]
    },
    {
      "cell_type": "code",
      "metadata": {
        "id": "6138wdLlA-Ku"
      },
      "source": [
        "raw_eda = data[\"CH3\"]\n",
        "sr = header[\"sampling rate\"]\n",
        "eda_len = raw_eda.shape[0]\n",
        "time = np.linspace(start=0, stop=eda_len/sr, num=eda_len)"
      ],
      "execution_count": null,
      "outputs": []
    },
    {
      "cell_type": "markdown",
      "metadata": {
        "id": "OLhCN7GUXMxZ"
      },
      "source": [
        "**Task 1**: plot the signal in time. Do not forget to label the axes!  \n",
        "Use `matplotlib` or `bokeh`, whichever you like more."
      ]
    },
    {
      "cell_type": "code",
      "metadata": {
        "id": "YBplYm8uAjYV"
      },
      "source": [
        "bf = bokeh.plotting.figure(\n",
        "    x_axis_label='Time',\n",
        "    y_axis_label='EDA',\n",
        "    plot_width=800,\n",
        "    plot_height=400)\n",
        "bf.line(time, raw_eda)\n",
        "bokeh.plotting.show(bf)"
      ],
      "execution_count": null,
      "outputs": []
    },
    {
      "cell_type": "markdown",
      "metadata": {
        "id": "4dnmYhFjqTla"
      },
      "source": [
        "Before the analysis, we need to **convert the units** (as during the ECG lab).\n",
        "\n",
        "**Side task:** If you are analysing your own data collected in the lab, read the documentation (see [EDA_Datasheet.pdf](https://krzysztof.kutt.pl/didactics/psaw/EDA_Datasheet.pdf)), and adjust the `convert_to_eda(raw_signal)` function accordingly."
      ]
    },
    {
      "cell_type": "code",
      "metadata": {
        "id": "LrYlqd8FTUfh"
      },
      "source": [
        "# The function is pre-prepared to sample data (as it was gathered with previous sensor version)\n",
        "def convert_to_eda(raw_signal):\n",
        "  n = header[\"resolution\"][-1]\n",
        "  vcc = 3.3\n",
        "  g_eda = 0.132\n",
        "\n",
        "  return ((raw_signal / 2**n) * vcc) / g_eda"
      ],
      "execution_count": null,
      "outputs": []
    },
    {
      "cell_type": "code",
      "metadata": {
        "id": "iKsJgkgZXx73"
      },
      "source": [
        "# apply the function\n",
        "converted_eda = convert_to_eda(raw_eda)\n",
        "\n",
        "# and plot the result\n",
        "bf = bokeh.plotting.figure(x_axis_label='Time (s)', y_axis_label='EDA (μS)', plot_width=800, plot_height=250)\n",
        "bf.line(time, converted_eda)\n",
        "bokeh.plotting.show(bf)"
      ],
      "execution_count": null,
      "outputs": []
    },
    {
      "cell_type": "markdown",
      "metadata": {
        "id": "0tGqnY6vqToQ"
      },
      "source": [
        "### EDA signal\n",
        "\n",
        "The EDA signal can be split into two components (see the image below):\n",
        "* *Skin Conductance Level (SCL)* -- a slow signal that fluctuates as temperature or general nervousness changes, among other things. It is not particularly useful in HCI, but we need to identify it to determine the other, more important, SCR component.\n",
        "* *Skin Conductance Response (SCR)* -- a rapid change in the signal, resulting in a peak. It can be further divided into two groups:\n",
        "  * *Event-Related SCR (ER-SCR)* -- the peak occurs in response to a stimulus (e.g., a sound in an experiment, or the appearance of a particular scene in a movie),\n",
        "  * *Non-Specific SCR (NS-SCR)* -- the peak is not related to any stimulus.  \n",
        "\n",
        "*It can be seen as a more advanced baseline correction task*"
      ]
    },
    {
      "cell_type": "markdown",
      "metadata": {
        "id": "JUgsynI1qTsg"
      },
      "source": [
        "![EDA-example-graph.png](data:image/png;base64,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)"
      ]
    },
    {
      "cell_type": "markdown",
      "metadata": {
        "id": "pl01BpMiqTxY"
      },
      "source": [
        "Typical EDA characteristics used in HCI studies ([source](https://doi.org/10.1017/CBO9780511546396)):\n",
        "* SCL\n",
        "* Change in SCL - Gradual changes in SCL measured at two or more points in time\n",
        "* Frequency of NS-SCRs\n",
        "* SCR amplitude\n",
        "* SCR latency - temporal interval between stimulus onset and SCR initiation\n",
        "* SCR rise time - temporal interval between SCR initiation and SCR peak\n",
        "* SCR half recovery time - temporal interval between SCR peak and point of 50% recovery of SCR amplitude\n",
        "* SCR habitation (trials to habituation) - number of stimulus presentations before two or three trials with noresponse\n",
        "* SCR habituation (slope) - Rate of change of ER-SCR amplitude\n",
        "\n",
        "They are summarized on the figure below ([source](https://doi.org/10.1017/CBO9780511546396))."
      ]
    },
    {
      "cell_type": "markdown",
      "metadata": {
        "id": "JsPZ1lo46U1X"
      },
      "source": [
        "![eda-peak.jpg](data:image/jpeg;base64,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)"
      ]
    },
    {
      "cell_type": "markdown",
      "metadata": {
        "id": "gIEPHWgVWFb8"
      },
      "source": [
        "### Filtering\n",
        "\n",
        "In research literature it is considered that the typical informational band of EDA signal is in the range:\n",
        "* [0; 3] Hz ([source](https://biosignalsplux.com/index.php/eda-electrodermal-activity))\n",
        "* [0; 10] Hz ([source](https://arxiv.org/pdf/1608.06986.pdf))\n",
        "* [0.016; 5] Hz ([source](https://books.google.pt/books?id=6N6rnOEZEEoC&pg=PA511&lpg=PA511&dq=electrodermal+signal+bandpass.&source=bl&ots=B2nCotFOLy&sig=ACfU3U1ywe-PWzZrUSN75RljGSGxwWkgVQ&hl=pt-PT&sa=X&ved=2ahUKEwiy35LRorTkAhUcAGMBHcOeCosQ6AEwGnoECAkQAQ#v=onepage&q=electrodermal%20signal%20bandpass.&f=false))\n",
        "* [0.0167; 0.25] Hz ([source](https://www.sciencedirect.com/science/article/abs/pii/S1746809418300090))\n",
        "* [0.045; 0.25] Hz ([source](https://www.ncbi.nlm.nih.gov/pmc/articles/PMC5983430/))\n",
        "* [0.05; 35] Hz ([source](https://www.birmingham.ac.uk/Documents/college-les/psych/saal/guide-electrodermal-activity.pdf))\n",
        "\n",
        "**Task 2**: As you can see, the range is very wide - so let's start by comparing the narrowest range and the widest range. To do this:\n",
        "1. Prepare two filters:\n",
        "  * wide range: lowpass (35 Hz)\n",
        "  * narrow range: select one of the ranges from the list above and prepare the appropriate bandpass filter\n",
        "2. Plot three lines (`converted_eda`, `wide_filtered_eda`, `narrow_filtered_eda`) on one plot. As narrow filters can result in a signal of smaller amplitude, it is useful to move the data when plotting, i.e., plot `narrow_filtered_eda + (converted_eda[0]-narrow_filtered_eda[0])` instead of `narrow_filtered_eda`.\n",
        "3. Describe your own thoughts - which of them is better and why? (or when?)\n",
        "\n",
        "Note: we will use [Butterworth filter](https://docs.scipy.org/doc/scipy/reference/generated/scipy.signal.butter.html) instead of the FIR and apply the filter using [filtfilt](https://docs.scipy.org/doc/scipy/reference/generated/scipy.signal.filtfilt.html) - you can compare results of this and previous approach if you are interested in details :)"
      ]
    },
    {
      "cell_type": "code",
      "metadata": {
        "id": "3PmsaDXn6Sbx"
      },
      "source": [
        "# apply wide range filter\n",
        "\n",
        "cutoff = 30\n",
        "filt_order = 2  # you can experiment with this value!\n",
        "b, a = signal.butter(filt_order, cutoff, fs=sr, btype='lowpass')\n",
        "wide_filtered_eda = signal.filtfilt(b, a, converted_eda)"
      ],
      "execution_count": null,
      "outputs": []
    },
    {
      "cell_type": "code",
      "metadata": {
        "id": "-E9QPsJY7Kxq"
      },
      "source": [
        "# apply selected narrow range filter\n",
        "\n",
        "cutoff = (0.016, 5)\n",
        "filt_order = 1  # you can experiment with this value!\n",
        "b, a = signal.butter(filt_order, cutoff, fs=sr, btype='bandpass')\n",
        "narrow_filtered_eda = signal.filtfilt(b, a, converted_eda)"
      ],
      "execution_count": null,
      "outputs": []
    },
    {
      "cell_type": "code",
      "metadata": {
        "id": "ypzN1sxWZu9Y"
      },
      "source": [
        "# prepare the plot\n",
        "narrow_filtered_eda = narrow_filtered_eda + (converted_eda[0]-narrow_filtered_eda[0])\n",
        "bf2 = bokeh.plotting.figure(\n",
        "    x_axis_label='Time (s)',\n",
        "    y_axis_label='EDA (μS)',\n",
        "    plot_width=900,\n",
        "    plot_height=250)\n",
        "bf2.line(time, converted_eda,\n",
        "         legend_label='Original', color='blue')\n",
        "bf2.line(time, wide_filtered_eda,\n",
        "         legend_label='Wide_filtered', color='red')\n",
        "bf2.line(time, narrow_filtered_eda,\n",
        "         legend_label='Narrow_filtered', color='green')\n",
        "bokeh.plotting.show(bf2)"
      ],
      "execution_count": null,
      "outputs": []
    },
    {
      "cell_type": "markdown",
      "metadata": {
        "id": "hYEGy_zYZ4ys"
      },
      "source": [
        "**Response (for Task 2, point 3):** \n",
        "Oba filtry dają podobny wynik, ale lepszym wyborem może być 'lowpass'."
      ]
    },
    {
      "cell_type": "markdown",
      "source": [
        ""
      ],
      "metadata": {
        "id": "14R3PWr4-Goi"
      }
    },
    {
      "cell_type": "markdown",
      "metadata": {
        "id": "U0F5RpRaiPrw"
      },
      "source": [
        "### Artifacts removal\n",
        "\n",
        "As you can see, a low-pass filter (35 Hz) is best, as it does not remove the SCR component from the signal. Unfortunately, there remains a lot of artifacts that has to be removed.\n",
        "\n",
        "It will be filtered using wavelet transform. Wavelet transforms are useful in signal filtering, as there are more signal-friendly than classical filters (many new articles deal with methods for filtering various signals in this way). For a short introduction, see, e.g., [https://www.centerspace.net/wavelet-transforms](https://www.centerspace.net/wavelet-transforms).\n",
        "\n",
        "Here, we will follow the algorithm described in [this paper](https://www.ncbi.nlm.nih.gov/pmc/articles/PMC5413204/).\n",
        "\n",
        "\n",
        "*There are no tasks in this section. Simply run the code and see what happens.*"
      ]
    },
    {
      "cell_type": "code",
      "metadata": {
        "id": "vQDxQCVdiSAm"
      },
      "source": [
        "# SWT 8th level Decomposition using \"Haar\" mother wavelet (taking into consideration its ability to detect \"edges\" in the signal)\n",
        "# We calculate it using only first 32768 to be able to perform level 8\n",
        "swt_orig_coeffs = pywt.swt(wide_filtered_eda[:32768], \"haar\", level=8)\n",
        "\n",
        "# Restriction of filtering algorithm to the coefficients of the last decomposition level.\n",
        "detail_coeffs = swt_orig_coeffs[0][1]\n",
        "scaling_coeffs = swt_orig_coeffs[0][0]"
      ],
      "execution_count": null,
      "outputs": []
    },
    {
      "cell_type": "markdown",
      "metadata": {
        "id": "TrjWfFWyz5CC"
      },
      "source": [
        "\"One Gaussian component describes coefficients centered around zero, and the other describes those spread out at larger values... The Gaussian with smaller variance corresponds to the wavelet coefficients of <strong>Skin Conductance Level (SCL)</strong>, while the Gaussian with larger variance corresponds to the wavelet coefficients of <strong>Skin Conductance Responses (SCRs)</strong>\""
      ]
    },
    {
      "cell_type": "code",
      "metadata": {
        "id": "TZRsRNfbiSDB"
      },
      "source": [
        "# Generation of a Gaussian Mixture model\n",
        "gaussian_mixt = sklearn.mixture.GaussianMixture(n_components=2, covariance_type=\"spherical\")\n",
        "\n",
        "# Reshape data to a column vector format.\n",
        "detail_coeffs_col = np.reshape(detail_coeffs, (len(detail_coeffs), 1))\n",
        "\n",
        "# Fit data to our model object.\n",
        "gaussian_mixt.fit(detail_coeffs_col)"
      ],
      "execution_count": null,
      "outputs": []
    },
    {
      "cell_type": "markdown",
      "metadata": {
        "id": "JclyeqDH0Et8"
      },
      "source": [
        "Determination of the Cumulative Density Function ($\\Phi_{mixt}$) of the previously defined Gaussian Mixture.\n",
        "\n",
        "\\begin{equation}\n",
        "\\Phi_{mixt} = weight_1 \\times \\Phi_1 + weight_2 \\times \\Phi_2\n",
        "\\end{equation}\n",
        "\n",
        "being $weight_1$ and $weight_2$ the relative contribution of each mixture component ($weight_1 + weight_2 = 1$) and $\\Phi_1$ and $\\Phi_2$ the normal cumulative distribution functions from the original component normal distributions $N(0, \\sigma_1^2)$ and $N(0, \\sigma_2^2)$. "
      ]
    },
    {
      "cell_type": "code",
      "metadata": {
        "id": "Zrs40CsuiSFd"
      },
      "source": [
        "# Normal distribution function objects.\n",
        "norm_1 = scipy.stats.norm(loc=gaussian_mixt.means_[0][0], scale=np.sqrt(gaussian_mixt.covariances_[0])) \n",
        "norm_2 = scipy.stats.norm(loc=gaussian_mixt.means_[1][0], scale=np.sqrt(gaussian_mixt.covariances_[1])) \n",
        "\n",
        "# Component weights.\n",
        "weight_1 = gaussian_mixt.weights_[0]\n",
        "weight_2 = gaussian_mixt.weights_[1]\n",
        "\n",
        "# CDF values for the coefficients under analysis.\n",
        "sort_detail_coeffs = np.sort(detail_coeffs)\n",
        "norm_1_cdf = norm_1.cdf(sort_detail_coeffs)\n",
        "norm_2_cdf = norm_2.cdf(sort_detail_coeffs)\n",
        "\n",
        "# CDF of the Gaussian mixture.\n",
        "cdf_mixt = weight_1 * norm_1_cdf + weight_2 * norm_2_cdf"
      ],
      "execution_count": null,
      "outputs": []
    },
    {
      "cell_type": "code",
      "metadata": {
        "id": "46uS4YQoiSIf"
      },
      "source": [
        " bsnb.plot([sort_detail_coeffs], [cdf_mixt], y_axis_label=\"Cumulative Distribution Probability\", x_axis_label =\"Wavelet Coefficient Values\", legend_label=[\"CDF Function\"])"
      ],
      "execution_count": null,
      "outputs": []
    },
    {
      "cell_type": "markdown",
      "metadata": {
        "id": "ETzTJ4qN0u0w"
      },
      "source": [
        "Definition of motion artifact removal thresholds using the Cumulative Distribution Function (CDF) of the previously defined Gaussian Mixture model, considering an artifact proportion value $\\delta$ equal to 0.01"
      ]
    },
    {
      "cell_type": "code",
      "metadata": {
        "id": "1SqcgZGHiSKp"
      },
      "source": [
        "art_prop = 0.01 # Artifact proportion value.\n",
        "low_thr = None \n",
        "high_thr = None\n",
        "\n",
        "# Check when the CDF mixture function reaches values art_prop / 2 and 1 - art_prop / 2.\n",
        "for i in range(0, len(norm_1_cdf)):\n",
        "    # Low threshold clause\n",
        "    if cdf_mixt[i] - cdf_mixt[0] >= art_prop and low_thr == None:\n",
        "        low_thr = sort_detail_coeffs[i]\n",
        "        \n",
        "    # High threshold clause\n",
        "    if cdf_mixt[-1] - cdf_mixt[i] <= art_prop and high_thr == None:\n",
        "        high_thr = sort_detail_coeffs[i]"
      ],
      "execution_count": null,
      "outputs": []
    },
    {
      "cell_type": "markdown",
      "metadata": {
        "id": "A2BJy5d501-6"
      },
      "source": [
        "Removal of wavelet coefficients related with motion artifacts\n",
        "\\begin{equation}\n",
        "d_{2^j}^{2^jk + p} = \\begin{cases} d_{2^j}^{2^jk + p}, & \\mbox{if } T_{low} < d_{2^j}^{2^jk + p} < T_{high}\\\\ 0, & otherwise \\end{cases}\n",
        "\\end{equation}\n",
        "\n",
        "being $d_{2^j}^{2^jk + p}$ the detail coefficient for the $j$ wavelet scale, translation $k$ and shift $p$. $T_{low}$ and $T_{High}$ define the determined lower and higher artifact removal thresholds stored in <strong>low_thr</strong> and <strong>high_thr</strong> variables."
      ]
    },
    {
      "cell_type": "code",
      "metadata": {
        "id": "caFMifr4s3YY"
      },
      "source": [
        "filt_detail_coeffs = copy.deepcopy(detail_coeffs)\n",
        "count_1 = 0\n",
        "count_2 = 0\n",
        "for j in range(0, len(filt_detail_coeffs)):\n",
        "    if detail_coeffs[j] <= low_thr or detail_coeffs[j] >= high_thr:\n",
        "        filt_detail_coeffs[j] = 0\n",
        "    else:\n",
        "        continue\n",
        "        \n",
        "# Update of the SWT decomposition tuple\n",
        "swt_coeffs = [(np.array(scaling_coeffs), np.array(filt_detail_coeffs))]"
      ],
      "execution_count": null,
      "outputs": []
    },
    {
      "cell_type": "markdown",
      "metadata": {
        "id": "M0l4Xgw51FmA"
      },
      "source": [
        "Signal reconstruction through an inverse SWT"
      ]
    },
    {
      "cell_type": "code",
      "metadata": {
        "id": "fA9a117as3a7"
      },
      "source": [
        "reconstructed_eda = pywt.iswt(swt_coeffs, \"haar\")"
      ],
      "execution_count": null,
      "outputs": []
    },
    {
      "cell_type": "code",
      "metadata": {
        "id": "fth3B_qgs3dT"
      },
      "source": [
        "# Plot the results (we plot the normalized data, as the reconstructed signal has lower amplitude)\n",
        "\n",
        "colors = bokeh.palettes.brewer['Paired'][3]\n",
        "bf = bokeh.plotting.figure(x_axis_label='Time (s)', y_axis_label='Normalized EDA', plot_width=800, plot_height=250)\n",
        "bf.line(time[:32768], wide_filtered_eda[:32768]/np.max(wide_filtered_eda[:32768]), alpha=0.8, line_width=2, color=colors[0], legend_label=\"Lowpass (35 Hz)\")\n",
        "bf.line(time[:32768], reconstructed_eda/np.max(reconstructed_eda), alpha=0.8, line_width=2, color=colors[1], legend_label=\"Reconstructed EDA\")\n",
        "bf.legend.click_policy=\"hide\"\n",
        "bokeh.plotting.show(bf)"
      ],
      "execution_count": null,
      "outputs": []
    },
    {
      "cell_type": "markdown",
      "metadata": {
        "id": "XPkWjCZQ1877"
      },
      "source": [
        "### Smoothing\n",
        "\n",
        "**Task 3**: Finaly, we want to perform some signal smoothing via a moving average window."
      ]
    },
    {
      "cell_type": "code",
      "metadata": {
        "id": "gn-Y9DZf3ug5"
      },
      "source": [
        "# To perform this step you can simply convolve envelope with proper rectangle window:\n",
        "# np.ones(window_size)/window_size\n",
        "# -- remember to divide by window_size as this is required for averaging all values!\n",
        "# The window size can be chosen experimentally. You can start with 0.3 * sampling_rate\n",
        "\n",
        "window_size = int(0.3 * sr)\n",
        "window_filter = np.ones(window_size) / window_size\n",
        "smoothed_eda = np.convolve(reconstructed_eda, window_filter, mode='same')\n",
        "\n"
      ],
      "execution_count": null,
      "outputs": []
    },
    {
      "cell_type": "code",
      "metadata": {
        "id": "QkL6Dr2y3upZ"
      },
      "source": [
        "# As signal has very low amplitude, we will rescale it to the original one\n",
        "smoothed_eda = smoothed_eda * (np.max(wide_filtered_eda) / np.max(smoothed_eda))"
      ],
      "execution_count": null,
      "outputs": []
    },
    {
      "cell_type": "code",
      "metadata": {
        "id": "rDeMjUUK3ur6"
      },
      "source": [
        "# Plot the smoothing result\n",
        "\n",
        "colors = bokeh.palettes.brewer['Paired'][4]\n",
        "bf = bokeh.plotting.figure(x_axis_label='Time (s)', y_axis_label='Normalized EDA', plot_width=800, plot_height=250)\n",
        "bf.line(time[:32768], wide_filtered_eda[:32768]/np.max(wide_filtered_eda[:32768]), alpha=0.8, line_width=2, color=colors[0], legend_label=\"Lowpass (35 Hz)\")\n",
        "bf.line(time[:32768], reconstructed_eda/np.max(reconstructed_eda), alpha=0.8, line_width=2, color=colors[1], legend_label=\"Reconstructed EDA\")\n",
        "bf.line(time[:32768], smoothed_eda/np.max(smoothed_eda), alpha=0.8, line_width=2, color=colors[2], legend_label=\"Smoothed EDA\")\n",
        "bf.legend.click_policy=\"hide\"\n",
        "bokeh.plotting.show(bf)"
      ],
      "execution_count": null,
      "outputs": []
    },
    {
      "cell_type": "markdown",
      "metadata": {
        "id": "giwSCSiL_Z3T"
      },
      "source": [
        "### Features extraction\n",
        "\n",
        "On the figure above (if you use the EDA\\_sample) you have **exactly one** EDA peak. As we finally filtered it, we can extract some features!\n",
        "\n",
        "**Task 4**: Calculate:\n",
        "* SCR amplitude - difference between baseline and the peak\n",
        "* SCR latency - temporal interval between stimulus onset and SCR initiation\n",
        "* SCR rise time - temporal interval between SCR initiation and SCR peak\n",
        "* SCR half recovery time - temporal interval between SCR peak and point of 50% recovery of SCR amplitude\n",
        "\n",
        "You can calculate them by hand or use a dedicated library."
      ]
    },
    {
      "cell_type": "code",
      "source": [
        "scr_amplitude = 1 - 0.712\n",
        "scr_latency = 7 - 0\n",
        "scr_rise_time = 10.9 - 7\n",
        "scr_half_recovery_time = 27 - 10.9\n",
        "\n",
        "print(f'Amplitude: {scr_amplitude}\\n' +\n",
        "      f'Latency: {scr_latency}\\n' +\n",
        "      f'Rise time: {scr_rise_time}\\n' +\n",
        "      f'Recovery: {scr_half_recovery_time}\\n')"
      ],
      "metadata": {
        "id": "2lgcCh2x6ypU"
      },
      "execution_count": null,
      "outputs": []
    },
    {
      "cell_type": "code",
      "metadata": {
        "id": "5ACiNGQWZ4Nl"
      },
      "source": [
        ""
      ],
      "execution_count": null,
      "outputs": []
    },
    {
      "cell_type": "markdown",
      "metadata": {
        "id": "AZz87ZDABAqy"
      },
      "source": [
        "### BioSPPy and Neurokit2\n",
        "\n",
        "As you may remember from ECG lab, there is also the BioSPPy tools. Now, we will see, how it works for EDA signal.\n",
        "\n",
        "The **Neurokit2** may also be useful. If you want to know more, the short tutorial for EDA signals is provided [here](https://neurokit2.readthedocs.io/en/latest/examples/eda.html)."
      ]
    },
    {
      "cell_type": "code",
      "metadata": {
        "id": "mOVhF6EXBvIE"
      },
      "source": [
        "# import the library\n",
        "import biosppy"
      ],
      "execution_count": null,
      "outputs": []
    },
    {
      "cell_type": "markdown",
      "metadata": {
        "id": "qq5d-xoADCS_"
      },
      "source": [
        "**Task 5**: The major method for EDA signal in BioSPPy is [`biosppy.signals.eda.eda()`](https://biosppy.readthedocs.io/en/stable/biosppy.signals.html#biosppy.signals.eda.eda). Your task is to use this method to our sample signal and check how well BioSPPy performs its tasks!\n",
        "\n",
        "* Try various signals as `signal` parameter (`raw_eda`, `converted_eda`, `wide_filtered_eda`, `smoothed_eda`). What are the differences in performance?\n",
        "* Manipulate the `min_amplitude` to adjust the results.\n",
        "* Remember to set the `sampling_rate` to proper value (and `show=True` to see the plots).\n",
        "* This method not only displays graphs, but also returns some results - review these values and compare with your own calculated in Task 4!\n",
        "\n",
        "As a response, note your observations below."
      ]
    },
    {
      "cell_type": "code",
      "metadata": {
        "id": "9w-zMk8bBop2"
      },
      "source": [
        "biosppy.signals.eda.eda(signal=raw_eda, sampling_rate=1000.0, show=True, min_amplitude=0.1)\n",
        "biosppy.signals.eda.eda(signal=converted_eda, sampling_rate=1000.0, show=True, min_amplitude=0.1)\n",
        "biosppy.signals.eda.eda(signal=wide_filtered_eda, sampling_rate=1000.0, show=True, min_amplitude=0.1)\n",
        "biosppy.signals.eda.eda(signal=smoothed_eda, sampling_rate=1000.0, show=True, min_amplitude=0.1)"
      ],
      "execution_count": null,
      "outputs": []
    },
    {
      "cell_type": "markdown",
      "metadata": {
        "id": "ojJtWJSME9VY"
      },
      "source": [
        "**Response (for Task 5):** Otrzymane wyniki przy użyciu biblioteki lekko różnią się od oczekiwanych gdyż następuje przesunięcie. "
      ]
    },
    {
      "cell_type": "code",
      "source": [
        ""
      ],
      "metadata": {
        "id": "OnVF7Gykrtwe"
      },
      "execution_count": null,
      "outputs": []
    },
    {
      "cell_type": "code",
      "metadata": {
        "id": "dV2aci9N7K4l"
      },
      "source": [
        ""
      ],
      "execution_count": null,
      "outputs": []
    }
  ]
}